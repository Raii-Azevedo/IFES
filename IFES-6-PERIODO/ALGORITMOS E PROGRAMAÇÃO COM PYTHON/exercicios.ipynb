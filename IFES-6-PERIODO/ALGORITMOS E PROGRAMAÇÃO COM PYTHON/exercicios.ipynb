{
 "cells": [
  {
   "cell_type": "markdown",
   "id": "a6af9edc",
   "metadata": {},
   "source": [
    "    1- (0,6 ponto) Escreva um programa que pergunte a velocidade do carro de um usuário. Caso ultrapasse 80 km/h, exiba uma mensagem dizendo que o usuário foi multado. Nesse caso, exiba o valor da multa, cobrando R$ 7,00 por km acima de 80 km/h.\n"
   ]
  },
  {
   "cell_type": "code",
   "execution_count": 9,
   "id": "b590d0ca",
   "metadata": {},
   "outputs": [
    {
     "name": "stdout",
     "output_type": "stream",
     "text": [
      "Você foi multado! O valor da multa é R$ 35.00\n"
     ]
    }
   ],
   "source": [
    "km = int(input(\"Digite a velocidade em km/h: \"))\n",
    "if km > 80:\n",
    "    multa = (km - 80) * 7\n",
    "    print(f\"Você foi multado! O valor da multa é R$ {multa:.2f}\")\n",
    "else:\n",
    "    print(\"Você está dentro do limite de velocidade.\")"
   ]
  },
  {
   "cell_type": "markdown",
   "id": "18110eb7",
   "metadata": {},
   "source": [
    "\n",
    "\n",
    "    2- (0,6 ponto) Escreva um programa que leia três números e que imprima o maior e o menor."
   ]
  },
  {
   "cell_type": "code",
   "execution_count": 10,
   "id": "68faf524",
   "metadata": {},
   "outputs": [
    {
     "name": "stdout",
     "output_type": "stream",
     "text": [
      "O maior número é 9 e o menor é 5\n"
     ]
    }
   ],
   "source": [
    "for i in range(1, 4):\n",
    "    num = int(input(f\"Digite o {i}° número: \"))\n",
    "    if i == 1:\n",
    "        maior = num\n",
    "        menor = num \n",
    "    else:\n",
    "        if num > maior:\n",
    "            maior = num \n",
    "        if num < menor:\n",
    "            menor = num     \n",
    "print(f\"O maior número é {maior} e o menor é {menor}\")\n",
    "        "
   ]
  },
  {
   "cell_type": "markdown",
   "id": "85eeaa81",
   "metadata": {},
   "source": [
    "(0,6 ponto) Escreva um programa que pergunte o salário do funcionário e calcule o valor do aumento. Para salários superiores a R$ 1.250,00, calcule um aumento de 10%. Para os inferiores ou iguais, de 15%."
   ]
  },
  {
   "cell_type": "code",
   "execution_count": 11,
   "id": "5dd8e163",
   "metadata": {},
   "outputs": [
    {
     "name": "stdout",
     "output_type": "stream",
     "text": [
      "O novo salário com aumento é R$ 9395.10\n"
     ]
    }
   ],
   "source": [
    "salario = float(input(\"Digite o salário do funcionário: R$ \"))\n",
    "if salario > 1250:\n",
    "    aumento = salario * 0.10        \n",
    "else:\n",
    "    aumento = salario * 0.15\n",
    "novo_salario = salario + aumento\n",
    "print(f\"O novo salário com aumento é R$ {novo_salario:.2f}\")\n"
   ]
  },
  {
   "cell_type": "markdown",
   "id": "46c3902a",
   "metadata": {},
   "source": [
    "\n",
    "    4- (0,6 ponto) Escreva um programa que leia números inteiros do teclado. O programa deve ler os números até que o usuário digite 0 (zero). No final da execução, exiba a quantidade de números digitados, assim como a soma e a média aritmética."
   ]
  },
  {
   "cell_type": "code",
   "execution_count": 12,
   "id": "9f939d8f",
   "metadata": {},
   "outputs": [
    {
     "name": "stdout",
     "output_type": "stream",
     "text": [
      "O número 8 é par.\n",
      "O número 4 é par.\n",
      "O número 6 é par.\n",
      "O número 0 é par.\n",
      "A soma dos números digitados é 18.\n",
      "A média dos números digitados é 4.50.\n",
      "Você digitou 4 números.\n"
     ]
    }
   ],
   "source": [
    "cont = 0\n",
    "soma = 0\n",
    "num = -1\n",
    "while num !=0:\n",
    "    num = int(input(\"Digite um número inteiro: \"))\n",
    "    cont += 1\n",
    "    soma += num\n",
    "    if num % 2 == 0:\n",
    "        print(f\"O número {num} é par.\")\n",
    "    else:\n",
    "        print(f\"O número {num} é ímpar.\")\n",
    "\n",
    "media = soma / cont\n",
    "print(f\"A soma dos números digitados é {soma}.\")\n",
    "print(f\"A média dos números digitados é {media:.2f}.\")\n",
    "print(f\"Você digitou {cont} números.\")"
   ]
  },
  {
   "cell_type": "markdown",
   "id": "bace712e",
   "metadata": {},
   "source": [
    "(0,6 ponto) A lista de temperaturas de Mons, na Bélgica, foi armazenada na lista T = [ -10, -5, 0, 1, 3, 5, -6, -8]. Faça um programa que imprima a menor e a maior temperatura, assim como a temperatura média."
   ]
  },
  {
   "cell_type": "code",
   "execution_count": 8,
   "id": "5f8a7110",
   "metadata": {},
   "outputs": [
    {
     "name": "stdout",
     "output_type": "stream",
     "text": [
      "A menor temperatura da lista é -10.\n",
      "A média dos números da lista é -2.50.\n",
      "A maior temperatura da lista é 5.\n"
     ]
    }
   ],
   "source": [
    "T = [-10, -5, 0, 1, 3, 5, -6, -8]\n",
    "\n",
    "menor = T[0]\n",
    "maior = T[0]\n",
    "\n",
    "for i in T:\n",
    "    if i < menor:\n",
    "        menor = i\n",
    "    if i > maior:\n",
    "        maior = i\n",
    "\n",
    "media = sum(T) / len(T)\n",
    "\n",
    "print(f\"A menor temperatura da lista é {menor}.\")\n",
    "print(f\"A média dos números da lista é {media:.2f}.\")\n",
    "print(f\"A maior temperatura da lista é {maior}.\")\n"
   ]
  }
 ],
 "metadata": {
  "kernelspec": {
   "display_name": "Python 3",
   "language": "python",
   "name": "python3"
  },
  "language_info": {
   "codemirror_mode": {
    "name": "ipython",
    "version": 3
   },
   "file_extension": ".py",
   "mimetype": "text/x-python",
   "name": "python",
   "nbconvert_exporter": "python",
   "pygments_lexer": "ipython3",
   "version": "3.12.5"
  }
 },
 "nbformat": 4,
 "nbformat_minor": 5
}
