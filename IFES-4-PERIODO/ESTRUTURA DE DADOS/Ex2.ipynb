{
 "cells": [
  {
   "cell_type": "markdown",
   "metadata": {},
   "source": [
    "As estruturas de dados definem a organização, os métodos de acesso e as opções de processamento para coleções de itens de informação manipulados por um programa. Elas ajudam-nos a estruturar, organizar, armazenar e acessar os dados de um programa.\n",
    "\n",
    "Considere o seguinte problema:\n",
    "\n",
    "Você deve organizar alguns alunos a partir do código para inserir na fila conforme demanda."
   ]
  },
  {
   "cell_type": "code",
   "execution_count": 4,
   "metadata": {},
   "outputs": [
    {
     "name": "stdout",
     "output_type": "stream",
     "text": [
      "\n",
      "Chegada de novo aluno na fila\n",
      "\n",
      "\n",
      "\n",
      "Aluno Inserido com Sucesso!!!!\n",
      "\n",
      "\n",
      "\n",
      "Chegada de novo aluno na fila\n",
      "\n",
      "\n",
      "\n",
      "Aluno Inserido com Sucesso!!!!\n",
      "\n",
      "\n",
      "O nome do primeiro aluno na fila é: Ana\n"
     ]
    }
   ],
   "source": [
    "class Aluno:\n",
    "    def __init__(self, matricula, nome, polo):\n",
    "        self.matricula = matricula\n",
    "        self.nome = nome\n",
    "        self.polo = polo\n",
    "\n",
    "def inserir():\n",
    "    continuar = 1\n",
    "    while continuar == 1:\n",
    "        print(\"\\nChegada de novo aluno na fila\\n\")\n",
    "        matricula = int(input(\"Numero da Matricula: \"))\n",
    "        nome = input(\"Nome: \")\n",
    "        polo = int(input(\"Polo do Aluno(1- Batalha, 2-Valenca): \"))\n",
    "        \n",
    "        if len(fila) < 30:\n",
    "            aluno = Aluno(matricula, nome, polo)\n",
    "            fila.append(aluno)\n",
    "            print(\"\\n\\nAluno Inserido com Sucesso!!!!\\n\\n\")\n",
    "        else:\n",
    "            print(\"\\n\\nFila cheia, Aluno nao inserido!!!!\\n\\n\")\n",
    "        \n",
    "        continuar = int(input(\"Continuar inserindo (1-sim/2-nao)? \"))\n",
    "\n",
    "def consultar_primeiro():\n",
    "    if len(fila) > 0:\n",
    "        primeiro_aluno = fila[0]\n",
    "        print(\"O nome do primeiro aluno na fila é:\", primeiro_aluno.nome)\n",
    "    else:\n",
    "        print(\"A fila está vazia.\")\n",
    "\n",
    "\n",
    "fila = []\n",
    "\n",
    "inserir()\n",
    "\n",
    "# Supondo que a inserção de alunos na fila já tenha sido feita\n",
    "\n",
    "consultar_primeiro()\n"
   ]
  }
 ],
 "metadata": {
  "kernelspec": {
   "display_name": "Python 3",
   "language": "python",
   "name": "python3"
  },
  "language_info": {
   "codemirror_mode": {
    "name": "ipython",
    "version": 3
   },
   "file_extension": ".py",
   "mimetype": "text/x-python",
   "name": "python",
   "nbconvert_exporter": "python",
   "pygments_lexer": "ipython3",
   "version": "3.10.12"
  }
 },
 "nbformat": 4,
 "nbformat_minor": 2
}
