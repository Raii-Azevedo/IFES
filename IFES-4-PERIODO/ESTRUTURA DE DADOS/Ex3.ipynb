{
 "cells": [
  {
   "cell_type": "markdown",
   "metadata": {},
   "source": [
    "Você está desenvolvendo um sistema de cadastro de livros cujas informações são:\n",
    "\n",
    "​​​​​​​- ISBN\n",
    "​​​​​​​- Título do livro\n",
    "- Valor\n",
    "- Autor do livro\n",
    "- Editora\n",
    "- Ano de publicação\n",
    "\n",
    "Depois de avaliar algumas estruturas de dados, você resolveu utilizar uma árvore binária para ordenar pelo ISBN.\n",
    "\n",
    "Defina a estrutura de dados que armazenará essas informações, a função que cria a árvore e a função que insere um nó na árvore."
   ]
  },
  {
   "cell_type": "code",
   "execution_count": 3,
   "metadata": {},
   "outputs": [
    {
     "name": "stdout",
     "output_type": "stream",
     "text": [
      "Livro encontrado:\n",
      "ISBN: 9783161484100\n",
      "Título: Dom Casmurro\n",
      "Valor: 25.9\n",
      "Autor: Machado de Assis\n",
      "Editora: Editora A\n",
      "Ano de publicação: 1899\n"
     ]
    }
   ],
   "source": [
    "class TreeNode:\n",
    "    def __init__(self, isbn, titulo, valor, autor, editora, ano_publicacao):\n",
    "        self.isbn = isbn\n",
    "        self.titulo = titulo\n",
    "        self.valor = valor\n",
    "        self.autor = autor\n",
    "        self.editora = editora\n",
    "        self.ano_publicacao = ano_publicacao\n",
    "        self.left = None\n",
    "        self.right = None\n",
    "\n",
    "def insert_node(root, isbn, titulo, valor, autor, editora, ano_publicacao):\n",
    "    if root is None:\n",
    "        return TreeNode(isbn, titulo, valor, autor, editora, ano_publicacao)\n",
    "    \n",
    "    if isbn < root.isbn:\n",
    "        root.left = insert_node(root.left, isbn, titulo, valor, autor, editora, ano_publicacao)\n",
    "    else:\n",
    "        root.right = insert_node(root.right, isbn, titulo, valor, autor, editora, ano_publicacao)\n",
    "    \n",
    "    return root\n",
    "\n",
    "def create_tree():\n",
    "    return None\n",
    "\n",
    "def search_book(root, isbn):\n",
    "    if root is None or root.isbn == isbn:\n",
    "        return root\n",
    "    \n",
    "    if isbn < root.isbn:\n",
    "        return search_book(root.left, isbn)\n",
    "    else:\n",
    "        return search_book(root.right, isbn)\n",
    "\n",
    "# Exemplo de uso:\n",
    "if __name__ == \"__main__\":\n",
    "    # Criando a árvore vazia\n",
    "    root = create_tree()\n",
    "    \n",
    "    # Inserindo alguns livros na árvore\n",
    "    root = insert_node(root, \"9783161484100\", \"Dom Casmurro\", 25.90, \"Machado de Assis\", \"Editora A\", 1899)\n",
    "    root = insert_node(root, \"9788533301521\", \"O Príncipe\", 20.50, \"Nicolau Maquiavel\", \"Editora B\", 1532)\n",
    "    root = insert_node(root, \"9788533624104\", \"1984\", 30.00, \"George Orwell\", \"Editora C\", 1949)\n",
    "\n",
    "    # Pesquisando um livro pelo ISBN\n",
    "    book_isbn = input('Digite o ISBN do livro: ')\n",
    "    found_book = search_book(root, book_isbn)\n",
    "    \n",
    "    if found_book:\n",
    "        print(\"Livro encontrado:\")\n",
    "        print(\"ISBN:\", found_book.isbn)\n",
    "        print(\"Título:\", found_book.titulo)\n",
    "        print(\"Valor:\", found_book.valor)\n",
    "        print(\"Autor:\", found_book.autor)\n",
    "        print(\"Editora:\", found_book.editora)\n",
    "        print(\"Ano de publicação:\", found_book.ano_publicacao)\n",
    "    else:\n",
    "        print(\"Livro não encontrado.\")\n"
   ]
  }
 ],
 "metadata": {
  "kernelspec": {
   "display_name": "Python 3",
   "language": "python",
   "name": "python3"
  },
  "language_info": {
   "codemirror_mode": {
    "name": "ipython",
    "version": 3
   },
   "file_extension": ".py",
   "mimetype": "text/x-python",
   "name": "python",
   "nbconvert_exporter": "python",
   "pygments_lexer": "ipython3",
   "version": "3.10.12"
  }
 },
 "nbformat": 4,
 "nbformat_minor": 2
}
